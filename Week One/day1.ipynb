{
 "cells": [
  {
   "cell_type": "code",
   "execution_count": 1,
   "id": "bccb5ed1",
   "metadata": {},
   "outputs": [
    {
     "data": {
      "text/plain": [
       "10"
      ]
     },
     "execution_count": 1,
     "metadata": {},
     "output_type": "execute_result"
    }
   ],
   "source": [
    "number = 5\n",
    "\n",
    "number * 2 "
   ]
  },
  {
   "cell_type": "code",
   "execution_count": 2,
   "id": "8cf52b20",
   "metadata": {},
   "outputs": [
    {
     "name": "stdout",
     "output_type": "stream",
     "text": [
      "11\n"
     ]
    }
   ],
   "source": [
    "#an example of a function \n",
    "\n",
    "def add(x,y):\n",
    "    return x+y \n",
    "#an example of a function call\n",
    "add_1 = add(5,6)\n",
    "print(add_1) #output: 11\n"
   ]
  },
  {
   "cell_type": "code",
   "execution_count": 4,
   "id": "66e42bd3",
   "metadata": {},
   "outputs": [
    {
     "name": "stdout",
     "output_type": "stream",
     "text": [
      "30\n"
     ]
    }
   ],
   "source": [
    "#an example of multiply function\n",
    "\n",
    "def multiply(a, b):\n",
    "    return a * b\n",
    "\n",
    "multiply_1 = multiply(5,6)\n",
    "print(multiply_1) #output: 30"
   ]
  },
  {
   "cell_type": "code",
   "execution_count": null,
   "id": "75077c44",
   "metadata": {},
   "outputs": [],
   "source": []
  }
 ],
 "metadata": {
  "kernelspec": {
   "display_name": "base",
   "language": "python",
   "name": "python3"
  },
  "language_info": {
   "codemirror_mode": {
    "name": "ipython",
    "version": 3
   },
   "file_extension": ".py",
   "mimetype": "text/x-python",
   "name": "python",
   "nbconvert_exporter": "python",
   "pygments_lexer": "ipython3",
   "version": "3.12.7"
  }
 },
 "nbformat": 4,
 "nbformat_minor": 5
}
