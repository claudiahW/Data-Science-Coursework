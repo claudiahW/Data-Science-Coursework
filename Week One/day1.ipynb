{
 "cells": [
  {
   "cell_type": "code",
   "execution_count": 1,
   "id": "bccb5ed1",
   "metadata": {},
   "outputs": [
    {
     "data": {
      "text/plain": [
       "10"
      ]
     },
     "execution_count": 1,
     "metadata": {},
     "output_type": "execute_result"
    }
   ],
   "source": [
    "number = 5\n",
    "\n",
    "number * 2 "
   ]
  },
  {
   "cell_type": "code",
   "execution_count": 2,
   "id": "8cf52b20",
   "metadata": {},
   "outputs": [
    {
     "name": "stdout",
     "output_type": "stream",
     "text": [
      "11\n"
     ]
    }
   ],
   "source": [
    "#an example of a function \n",
    "\n",
    "def add(x,y):\n",
    "    return x+y \n",
    "#an example of a function call\n",
    "add_1 = add(5,6)\n",
    "print(add_1) #output: 11\n"
   ]
  },
  {
   "cell_type": "code",
   "execution_count": null,
   "id": "66e42bd3",
   "metadata": {},
   "outputs": [
    {
     "name": "stdout",
     "output_type": "stream",
     "text": [
      "30\n"
     ]
    }
   ],
   "source": [
    "#an example of multiply function\n",
    "\n",
    "def multiply(a, b):\n",
    "    return a * b\n",
    "\n",
    "multiply_1 = multiply(5,6)\n",
    "print(multiply_1) #output: 30"
   ]
  },
  {
   "cell_type": "code",
   "execution_count": 2,
   "id": "75077c44",
   "metadata": {},
   "outputs": [
    {
     "name": "stdout",
     "output_type": "stream",
     "text": [
      "1\n",
      "2\n",
      "3\n",
      "4\n",
      "5\n"
     ]
    }
   ],
   "source": [
    "# an example of a for loop\n",
    "numbers=[1,2,3,4,5]\n",
    "\n",
    "for num in numbers:\n",
    "\n",
    "        print(num)\n"
   ]
  },
  {
   "cell_type": "code",
   "execution_count": 2,
   "id": "3c1a5300",
   "metadata": {},
   "outputs": [
    {
     "data": {
      "text/plain": [
       "[0, 1, 2, 3]"
      ]
     },
     "execution_count": 2,
     "metadata": {},
     "output_type": "execute_result"
    }
   ],
   "source": [
    "zero_to_three = [0, 1, 2, 3]\n",
    "\n",
    "zero_to_three"
   ]
  },
  {
   "cell_type": "code",
   "execution_count": 3,
   "id": "bc186b1d",
   "metadata": {},
   "outputs": [
    {
     "name": "stdout",
     "output_type": "stream",
     "text": [
      "0\n",
      "1\n",
      "2\n",
      "3\n"
     ]
    }
   ],
   "source": [
    "print(zero_to_three[0])\n",
    "print(zero_to_three[1])\n",
    "print(zero_to_three[2])\n",
    "print(zero_to_three[3])"
   ]
  },
  {
   "cell_type": "code",
   "execution_count": null,
   "id": "ec63df77",
   "metadata": {},
   "outputs": [
    {
     "name": "stdout",
     "output_type": "stream",
     "text": [
      "0\n",
      "1\n",
      "2\n",
      "3\n"
     ]
    }
   ],
   "source": [
    "#using a for loop \n",
    "for number in zero_to_three:\n",
    "    print(number)"
   ]
  },
  {
   "cell_type": "code",
   "execution_count": 5,
   "id": "f2e8643b",
   "metadata": {},
   "outputs": [
    {
     "name": "stdout",
     "output_type": "stream",
     "text": [
      "This is iteration: 1\n",
      "0\n",
      "This is iteration: 2\n",
      "1\n",
      "This is iteration: 3\n",
      "2\n",
      "This is iteration: 4\n",
      "3\n",
      "The for loop is finished now! I am not in the for loop block, which is why I only printed once!\n"
     ]
    }
   ],
   "source": [
    "iteration_count = 0\n",
    "for whatever_we_want in zero_to_three:\n",
    "    iteration_count += 1\n",
    "    print(\"This is iteration:\", iteration_count)\n",
    "    print(whatever_we_want)\n",
    "print(\"The for loop is finished now! I am not in the for loop block, which is why I only printed once!\")"
   ]
  },
  {
   "cell_type": "code",
   "execution_count": null,
   "id": "8aa3156e",
   "metadata": {},
   "outputs": [
    {
     "name": "stdout",
     "output_type": "stream",
     "text": [
      "0\n",
      "Croatia\n",
      "1\n",
      "USA\n",
      "2\n",
      "Argentina\n",
      "3\n",
      "France\n",
      "4\n",
      "Brazil\n",
      "5\n",
      "Japan\n",
      "6\n",
      "Vietnam\n"
     ]
    }
   ],
   "source": [
    "#using list elements as indices\n",
    "\n",
    "countries = ['Croatia', 'USA', 'Argentina', 'France', 'Brazil', 'Japan', 'Vietnam']\n",
    "\n",
    "\n",
    "for index in [0,1,2,3,4,5,6]:\n",
    "    print(index)\n",
    "    print(countries[index])"
   ]
  },
  {
   "cell_type": "code",
   "execution_count": null,
   "id": "f700b8f3",
   "metadata": {},
   "outputs": [
    {
     "name": "stdout",
     "output_type": "stream",
     "text": [
      "0 Mary\n",
      "1 Ursula\n",
      "2 Ariana\n",
      "3 Francis\n",
      "4 Bridgit\n",
      "5 James\n",
      "6 Viviene\n"
     ]
    }
   ],
   "source": [
    "students = ['Mary', 'Ursula', 'Ariana', 'Francis', 'Bridgit', 'James', 'Viviene']\n",
    "\n",
    "\n",
    "for student in [0,1,2,3,4,5,6]:\n",
    "    print(student, students[student])\n",
    "    "
   ]
  },
  {
   "cell_type": "code",
   "execution_count": 16,
   "id": "9d41e65b",
   "metadata": {},
   "outputs": [],
   "source": [
    "countries = ['Croatia', 'USA', 'Argentina', 'France', 'Brazil', 'Japan', 'Vietnam']\n",
    "cities = ['Zagreb', 'District of Columbia', 'Buenos Aires', 'Paris', 'Rio de Janeiro', 'Tokyo', 'Hanoi']"
   ]
  },
  {
   "cell_type": "code",
   "execution_count": 17,
   "id": "7bc19feb",
   "metadata": {},
   "outputs": [
    {
     "name": "stdout",
     "output_type": "stream",
     "text": [
      "Zagreb, Croatia\n",
      "District of Columbia, USA\n",
      "Buenos Aires, Argentina\n",
      "Paris, France\n",
      "Rio de Janeiro, Brazil\n",
      "Tokyo, Japan\n",
      "Hanoi, Vietnam\n"
     ]
    }
   ],
   "source": [
    "for index in [0,1,2,3,4,5,6]:\n",
    "    print(cities[index]+\",\", countries[index])"
   ]
  },
  {
   "cell_type": "code",
   "execution_count": 18,
   "id": "2ac7f794",
   "metadata": {},
   "outputs": [
    {
     "data": {
      "text/plain": [
       "7"
      ]
     },
     "execution_count": 18,
     "metadata": {},
     "output_type": "execute_result"
    }
   ],
   "source": [
    "# calculate size of the list \n",
    "\n",
    "len(countries)"
   ]
  },
  {
   "cell_type": "code",
   "execution_count": 21,
   "id": "e3406333",
   "metadata": {},
   "outputs": [
    {
     "data": {
      "text/plain": [
       "range(0, 7)"
      ]
     },
     "execution_count": 21,
     "metadata": {},
     "output_type": "execute_result"
    }
   ],
   "source": [
    "# create a range object \n",
    "\n",
    "range(0, len(countries))"
   ]
  },
  {
   "cell_type": "code",
   "execution_count": 22,
   "id": "3f27ec42",
   "metadata": {},
   "outputs": [
    {
     "data": {
      "text/plain": [
       "[0, 1, 2, 3, 4, 5, 6]"
      ]
     },
     "execution_count": 22,
     "metadata": {},
     "output_type": "execute_result"
    }
   ],
   "source": [
    "# convert range into a list \n",
    "\n",
    "list(range(0, len(countries)))\n",
    "\n"
   ]
  },
  {
   "cell_type": "code",
   "execution_count": 23,
   "id": "69050321",
   "metadata": {},
   "outputs": [
    {
     "name": "stdout",
     "output_type": "stream",
     "text": [
      "Zagreb, Croatia\n",
      "District of Columbia, USA\n",
      "Buenos Aires, Argentina\n",
      "Paris, France\n",
      "Rio de Janeiro, Brazil\n",
      "Tokyo, Japan\n",
      "Hanoi, Vietnam\n"
     ]
    }
   ],
   "source": [
    "for index in list(range(0, len(countries))):\n",
    "    print(cities[index]+\",\", countries[index])"
   ]
  },
  {
   "cell_type": "code",
   "execution_count": 25,
   "id": "669c4c45",
   "metadata": {},
   "outputs": [
    {
     "name": "stdout",
     "output_type": "stream",
     "text": [
      "Zagreb, Croatia\n",
      "District of Columbia, USA\n",
      "Buenos Aires, Argentina\n",
      "Paris, France\n",
      "Rio de Janeiro, Brazil\n",
      "Tokyo, Japan\n",
      "Hanoi, Vietnam\n",
      "Mexico City, Mexico\n",
      "Mexico City, Mexico\n"
     ]
    }
   ],
   "source": [
    "# use .append to add an item to the list\n",
    "\n",
    "countries.append('Mexico')\n",
    "cities.append('Mexico City')\n",
    "for index in list(range(0, len(countries))):\n",
    "    print(cities[index]+\",\", countries[index])"
   ]
  },
  {
   "cell_type": "markdown",
   "id": "dc5391ac",
   "metadata": {},
   "source": []
  },
  {
   "cell_type": "code",
   "execution_count": 26,
   "id": "f7792b4c",
   "metadata": {},
   "outputs": [
    {
     "name": "stdout",
     "output_type": "stream",
     "text": [
      "0 A\n",
      "1 B\n",
      "2 C\n"
     ]
    }
   ],
   "source": [
    "for idx, item in enumerate(['A', 'B', 'C']):\n",
    "    print(idx, item)"
   ]
  },
  {
   "cell_type": "code",
   "execution_count": 27,
   "id": "9ac738b7",
   "metadata": {},
   "outputs": [
    {
     "name": "stdout",
     "output_type": "stream",
     "text": [
      "A String\n",
      "['a', 'list', 'of', 5, ['elements']]\n",
      "{'this': 'is a dictionary'}\n"
     ]
    }
   ],
   "source": [
    "# iterating through different data types \n",
    "\n",
    "different_elements = ['A String', [\"a\", 'list', \"of\", 5, [\"elements\"]], {'this': \"is a dictionary\"}]\n",
    "for element in different_elements:\n",
    "    print(element)"
   ]
  },
  {
   "cell_type": "code",
   "execution_count": 33,
   "id": "990ba72e",
   "metadata": {},
   "outputs": [
    {
     "name": "stdout",
     "output_type": "stream",
     "text": [
      "dict_items([('first_name', 'Terrance'), ('last_name', 'KOAR'), ('favorite_language', 'Python'), ('pet_animal', 'Dog'), ('age', 25)])\n"
     ]
    },
    {
     "data": {
      "text/plain": [
       "dict_items"
      ]
     },
     "execution_count": 33,
     "metadata": {},
     "output_type": "execute_result"
    }
   ],
   "source": [
    "# iterating through a dictionary \n",
    "\n",
    "example_dictionary = {\n",
    "    'first_name': \"Terrance\",\n",
    "      'last_name': \"KOAR\", \n",
    "      'favorite_language': \"Python\",\n",
    "      'pet_animal': \"Dog\",\n",
    "      'age': 25\n",
    "      }\n",
    "print(example_dictionary.items())\n",
    "type(example_dictionary.items())"
   ]
  },
  {
   "cell_type": "code",
   "execution_count": 34,
   "id": "17718aa8",
   "metadata": {},
   "outputs": [
    {
     "name": "stdout",
     "output_type": "stream",
     "text": [
      "this is the key: first_name\n",
      "this is the value: Terrance \n",
      "\n",
      "this is the key: last_name\n",
      "this is the value: KOAR \n",
      "\n",
      "this is the key: favorite_language\n",
      "this is the value: Python \n",
      "\n",
      "this is the key: pet_animal\n",
      "this is the value: Dog \n",
      "\n",
      "this is the key: age\n",
      "this is the value: 25 \n",
      "\n"
     ]
    }
   ],
   "source": [
    "for key, value in example_dictionary.items():\n",
    "    print(\"this is the key:\", key)    \n",
    "    print(\"this is the value:\", value, \"\\n\")"
   ]
  },
  {
   "cell_type": "code",
   "execution_count": 35,
   "id": "2d7f0f3d",
   "metadata": {},
   "outputs": [
    {
     "name": "stdout",
     "output_type": "stream",
     "text": [
      "Terrance Koar\n"
     ]
    }
   ],
   "source": [
    "first_name = \"\"\n",
    "last_name = \"\"\n",
    "for key, value in example_dictionary.items():\n",
    "    if key == \"last_name\":\n",
    "        last_name = value.title()\n",
    "    if key == \"first_name\":\n",
    "        first_name = value\n",
    "print(first_name, last_name)"
   ]
  },
  {
   "cell_type": "code",
   "execution_count": 36,
   "id": "fd4d6b6d",
   "metadata": {},
   "outputs": [
    {
     "name": "stdout",
     "output_type": "stream",
     "text": [
      "Croatia\n",
      "USA\n",
      "Argentina\n",
      "France\n",
      "Brazil\n",
      "Japan\n",
      "Vietnam\n",
      "Mexico\n",
      "Mexico\n"
     ]
    }
   ],
   "source": [
    "for country in countries:\n",
    "    print(country)"
   ]
  },
  {
   "cell_type": "code",
   "execution_count": 38,
   "id": "12d5382a",
   "metadata": {},
   "outputs": [
    {
     "name": "stdout",
     "output_type": "stream",
     "text": [
      "Mary\n",
      "Ursula\n",
      "Ariana\n",
      "Francis\n",
      "Bridgit\n",
      "James\n",
      "Viviene\n"
     ]
    }
   ],
   "source": [
    "for student in students:\n",
    "    print(student)"
   ]
  },
  {
   "cell_type": "code",
   "execution_count": 39,
   "id": "76eb210d",
   "metadata": {},
   "outputs": [
    {
     "name": "stdout",
     "output_type": "stream",
     "text": [
      "I love Mint Chocolate Chip ice cream!\n",
      "I love Coffee ice cream!\n",
      "I love Cookie Dough ice cream!\n",
      "I love Fudge Mint Brownie ice cream!\n",
      "I love Vanilla Bean ice cream!\n"
     ]
    }
   ],
   "source": [
    "# complete example \n",
    "\n",
    "ice_cream_flavors = ['Mint Chocolate Chip', 'Coffee', 'Cookie Dough', 'Fudge Mint Brownie', 'Vanilla Bean']\n",
    "for ice_cream_flavor in ice_cream_flavors:\n",
    "    print('I love ' + ice_cream_flavor + ' ice cream!')"
   ]
  },
  {
   "cell_type": "code",
   "execution_count": null,
   "id": "b9080ed6",
   "metadata": {},
   "outputs": [],
   "source": []
  }
 ],
 "metadata": {
  "kernelspec": {
   "display_name": "base",
   "language": "python",
   "name": "python3"
  },
  "language_info": {
   "codemirror_mode": {
    "name": "ipython",
    "version": 3
   },
   "file_extension": ".py",
   "mimetype": "text/x-python",
   "name": "python",
   "nbconvert_exporter": "python",
   "pygments_lexer": "ipython3",
   "version": "3.12.7"
  }
 },
 "nbformat": 4,
 "nbformat_minor": 5
}
