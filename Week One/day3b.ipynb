{
 "cells": [
  {
   "cell_type": "code",
   "execution_count": 13,
   "id": "82881067",
   "metadata": {},
   "outputs": [],
   "source": [
    "import pandas as pd \n",
    "import csv\n",
    "import json"
   ]
  },
  {
   "cell_type": "code",
   "execution_count": 14,
   "id": "a0dd2013",
   "metadata": {},
   "outputs": [
    {
     "data": {
      "text/plain": [
       "list"
      ]
     },
     "execution_count": 14,
     "metadata": {},
     "output_type": "execute_result"
    }
   ],
   "source": [
    "info_table = [\n",
    "    {\"color\": \"green\", \"number\": 7},\n",
    "    {\"color\": \"red\", \"number\": 2},\n",
    "    {\"color\": \"orange\", \"number\": 1}\n",
    "]\n",
    "\n",
    "type(info_table)"
   ]
  },
  {
   "cell_type": "code",
   "execution_count": 15,
   "id": "bda80a10",
   "metadata": {},
   "outputs": [
    {
     "name": "stdout",
     "output_type": "stream",
     "text": [
      "green\n",
      "red\n",
      "orange\n"
     ]
    }
   ],
   "source": [
    "for row in info_table:\n",
    "    print(row[\"color\"])"
   ]
  },
  {
   "cell_type": "code",
   "execution_count": 16,
   "id": "626802fb",
   "metadata": {},
   "outputs": [
    {
     "data": {
      "text/plain": [
       "pandas.core.frame.DataFrame"
      ]
     },
     "execution_count": 16,
     "metadata": {},
     "output_type": "execute_result"
    }
   ],
   "source": [
    "df = pd.DataFrame(info_table)\n",
    "type(df)"
   ]
  },
  {
   "cell_type": "code",
   "execution_count": 17,
   "id": "5ec6a51c",
   "metadata": {},
   "outputs": [
    {
     "name": "stdout",
     "output_type": "stream",
     "text": [
      "0     green\n",
      "1       red\n",
      "2    orange\n",
      "Name: color, dtype: object\n"
     ]
    }
   ],
   "source": [
    "print(df[\"color\"])"
   ]
  },
  {
   "cell_type": "code",
   "execution_count": null,
   "id": "60bcddc6",
   "metadata": {},
   "outputs": [],
   "source": []
  }
 ],
 "metadata": {
  "kernelspec": {
   "display_name": "base",
   "language": "python",
   "name": "python3"
  },
  "language_info": {
   "codemirror_mode": {
    "name": "ipython",
    "version": 3
   },
   "file_extension": ".py",
   "mimetype": "text/x-python",
   "name": "python",
   "nbconvert_exporter": "python",
   "pygments_lexer": "ipython3",
   "version": "3.12.7"
  }
 },
 "nbformat": 4,
 "nbformat_minor": 5
}
